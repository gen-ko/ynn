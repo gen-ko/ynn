{
 "cells": [
  {
   "cell_type": "code",
   "execution_count": 6,
   "metadata": {},
   "outputs": [
    {
     "name": "stdout",
     "output_type": "stream",
     "text": [
      "start initiliazing...\n",
      "------------------ Start Training -----------------\n",
      "\tepoch\t|\ttrain error\t|\tvalid error\t|\t\n",
      "\t0\t \t0.216666666667\t0.134\t\n",
      "\t1\t \t0.0923333333333\t0.095\t\n",
      "\t2\t \t0.06\t0.109\t\n",
      "\t3\t \t0.041\t0.083\t\n",
      "\t4\t \t0.024\t0.079\t\n",
      "\t5\t \t0.011\t0.083\t\n",
      "\t6\t \t0.00666666666667\t0.076\t\n",
      "\t7\t \t0.002\t0.073\t\n",
      "\t8\t \t0.0\t0.069\t\n",
      "\t9\t \t0.0\t0.069\t\n",
      "\t10\t \t0.0\t0.069\t\n",
      "\t11\t \t0.0\t0.071\t\n",
      "\t12\t \t0.0\t0.073\t\n",
      "\t13\t \t0.0\t0.073\t\n",
      "\t14\t \t0.0\t0.072\t\n",
      "\t15\t \t0.0\t0.075\t\n",
      "\t16\t \t0.0\t0.071\t\n",
      "\t17\t \t0.0\t0.075\t\n",
      "\t18\t \t0.0\t0.074\t\n",
      "\t19\t \t0.0\t0.073\t\n",
      "\t20\t \t0.0\t0.073\t\n",
      "\t21\t \t0.0\t0.074\t\n",
      "\t22\t \t0.0\t0.075\t\n",
      "\t23\t \t0.0\t0.074\t\n",
      "\t24\t \t0.0\t0.078\t\n",
      "\t25\t \t0.0\t0.075\t\n",
      "\t26\t \t0.0\t0.074\t\n",
      "\t27\t \t0.0\t0.078\t\n",
      "\t28\t \t0.0\t0.073\t\n",
      "\t29\t \t0.0\t0.076\t\n",
      "\t30\t \t0.0\t0.075\t\n",
      "\t31\t \t0.0\t0.075\t\n",
      "\t32\t \t0.0\t0.077\t\n",
      "\t33\t \t0.0\t0.075\t\n",
      "\t34\t \t0.0\t0.072\t\n",
      "\t35\t \t0.0\t0.076\t\n",
      "\t36\t \t0.0\t0.078\t\n",
      "\t37\t \t0.0\t0.072\t\n",
      "\t38\t \t0.0\t0.079\t\n",
      "\t39\t \t0.0\t0.079\t\n",
      "\t40\t \t0.0\t0.074\t\n",
      "\t41\t \t0.0\t0.077\t\n",
      "\t42\t \t0.0\t0.077\t\n",
      "\t43\t \t0.0\t0.077\t\n",
      "\t44\t \t0.0\t0.076\t\n",
      "\t45\t \t0.0\t0.074\t\n",
      "\t46\t \t0.0\t0.075\t\n",
      "\t47\t \t0.0\t0.079\t\n",
      "\t48\t \t0.0\t0.075\t\n",
      "\t49\t \t0.0\t0.078\t\n",
      "\t50\t \t0.0\t0.076\t\n",
      "\t51\t \t0.0\t0.078\t\n",
      "\t52\t \t0.0\t0.075\t\n",
      "\t53\t \t0.0\t0.075\t\n",
      "\t54\t \t0.0\t0.075\t\n",
      "\t55\t \t0.0\t0.078\t\n",
      "\t56\t \t0.0\t0.078\t\n",
      "\t57\t \t0.0\t0.074\t\n",
      "\t58\t \t0.0\t0.073\t\n",
      "\t59\t \t0.0\t0.076\t\n",
      "\t60\t \t0.0\t0.077\t\n",
      "\t61\t \t0.0\t0.076\t\n",
      "\t62\t \t0.0\t0.074\t\n",
      "\t63\t \t0.0\t0.078\t\n",
      "\t64\t \t0.0\t0.077\t\n",
      "\t65\t \t0.0\t0.072\t\n",
      "\t66\t \t0.0\t0.076\t\n",
      "\t67\t \t0.0\t0.073\t\n",
      "\t68\t \t0.0\t0.075\t\n",
      "\t69\t \t0.0\t0.076\t\n",
      "\t70\t \t0.0\t0.076\t\n",
      "\t71\t \t0.0\t0.076\t\n",
      "\t72\t \t0.0\t0.075\t\n",
      "\t73\t \t0.0\t0.075\t\n",
      "\t74\t \t0.0\t0.078\t\n",
      "\t75\t \t0.0\t0.075\t\n",
      "\t76\t \t0.0\t0.078\t\n",
      "\t77\t \t0.0\t0.076\t\n",
      "\t78\t \t0.0\t0.074\t\n",
      "\t79\t \t0.0\t0.075\t\n",
      "\t80\t \t0.0\t0.073\t\n",
      "\t81\t \t0.0\t0.078\t\n",
      "\t82\t \t0.0\t0.077\t\n",
      "\t83\t \t0.0\t0.075\t\n",
      "\t84\t \t0.0\t0.076\t\n",
      "\t85\t \t0.0\t0.076\t\n",
      "\t86\t \t0.0\t0.076\t\n",
      "\t87\t \t0.0\t0.075\t\n",
      "\t88\t \t0.0\t0.076\t\n",
      "\t89\t \t0.0\t0.075\t\n",
      "\t90\t \t0.0\t0.074\t\n",
      "\t91\t \t0.0\t0.076\t\n",
      "\t92\t \t0.0\t0.075\t\n",
      "\t93\t \t0.0\t0.074\t\n",
      "\t94\t \t0.0\t0.072\t\n",
      "\t95\t \t0.0\t0.077\t\n",
      "\t96\t \t0.0\t0.075\t\n",
      "\t97\t \t0.0\t0.076\t\n",
      "\t98\t \t0.0\t0.078\t\n",
      "\t99\t \t0.0\t0.075\t\n",
      "\t100\t \t0.0\t0.076\t\n",
      "\t101\t \t0.0\t0.075\t\n",
      "\t102\t \t0.0\t0.076\t\n",
      "\t103\t \t0.0\t0.074\t\n",
      "\t104\t \t0.0\t0.077\t\n",
      "\t105\t \t0.0\t0.075\t\n",
      "\t106\t \t0.0\t0.074\t\n",
      "\t107\t \t0.0\t0.076\t\n",
      "\t108\t \t0.0\t0.076\t\n",
      "\t109\t \t0.0\t0.077\t\n",
      "\t110\t \t0.0\t0.077\t\n",
      "\t111\t \t0.0\t0.076\t\n",
      "\t112\t \t0.0\t0.078\t\n",
      "\t113\t \t0.0\t0.077\t\n",
      "\t114\t \t0.0\t0.075\t\n",
      "\t115\t \t0.0\t0.078\t\n",
      "\t116\t \t0.0\t0.075\t\n",
      "\t117\t \t0.0\t0.074\t\n",
      "\t118\t \t0.0\t0.075\t\n",
      "\t119\t \t0.0\t0.076\t\n",
      "\t120\t \t0.0\t0.077\t\n",
      "\t121\t \t0.0\t0.075\t\n",
      "\t122\t \t0.0\t0.075\t\n",
      "\t123\t \t0.0\t0.074\t\n",
      "\t124\t \t0.0\t0.077\t\n",
      "\t125\t \t0.0\t0.076\t\n",
      "\t126\t \t0.0\t0.078\t\n",
      "\t127\t \t0.0\t0.076\t\n",
      "\t128\t \t0.0\t0.077\t\n",
      "\t129\t \t0.0\t0.077\t\n",
      "\t130\t \t0.0\t0.076\t\n",
      "\t131\t \t0.0\t0.077\t\n",
      "\t132\t \t0.0\t0.075\t\n",
      "\t133\t \t0.0\t0.077\t\n",
      "\t134\t \t0.0\t0.074\t\n",
      "\t135\t \t0.0\t0.075\t\n",
      "\t136\t \t0.0\t0.072\t\n",
      "\t137\t \t0.0\t0.078\t\n",
      "\t138\t \t0.0\t0.076\t\n",
      "\t139\t \t0.0\t0.074\t\n",
      "\t140\t \t0.0\t0.075\t\n",
      "\t141\t \t0.0\t0.076\t\n",
      "\t142\t \t0.0\t0.08\t\n",
      "\t143\t \t0.0\t0.073\t\n",
      "\t144\t \t0.0\t0.077\t\n",
      "\t145\t \t0.0\t0.075\t\n",
      "\t146\t \t0.0\t0.075\t\n",
      "\t147\t \t0.0\t0.075\t\n",
      "\t148\t \t0.0\t0.072\t\n",
      "\t149\t \t0.0\t0.074\t\n",
      "\t150\t \t0.0\t0.077\t\n",
      "\t151\t \t0.0\t0.073\t\n",
      "\t152\t \t0.0\t0.076\t\n",
      "\t153\t \t0.0\t0.078\t\n",
      "\t154\t \t0.0\t0.079\t\n",
      "\t155\t \t0.0\t0.078\t\n",
      "\t156\t \t0.0\t0.074\t\n",
      "\t157\t \t0.0\t0.074\t\n",
      "\t158\t \t0.0\t0.075\t\n",
      "\t159\t \t0.0\t0.074\t\n",
      "\t160\t \t0.0\t0.076\t\n",
      "\t161\t \t0.0\t0.077\t\n",
      "\t162\t \t0.0\t0.073\t\n",
      "\t163\t \t0.0\t0.075\t\n",
      "\t164\t \t0.0\t0.077\t\n",
      "\t165\t \t0.0\t0.075\t\n",
      "\t166\t \t0.0\t0.075\t\n",
      "\t167\t \t0.0\t0.076\t\n",
      "\t168\t \t0.0\t0.074\t\n",
      "\t169\t \t0.0\t0.072\t\n",
      "\t170\t \t0.0\t0.074\t\n",
      "\t171\t \t0.0\t0.076\t\n",
      "\t172\t \t0.0\t0.075\t\n",
      "\t173\t \t0.0\t0.075\t\n",
      "\t174\t \t0.0\t0.076\t\n",
      "\t175\t \t0.0\t0.077\t\n",
      "\t176\t \t0.0\t0.074\t\n",
      "\t177\t \t0.0\t0.077\t\n",
      "\t178\t \t0.0\t0.077\t\n",
      "\t179\t \t0.0\t0.074\t\n",
      "\t180\t \t0.0\t0.076\t\n",
      "\t181\t \t0.0\t0.075\t\n",
      "\t182\t \t0.0\t0.073\t\n",
      "\t183\t \t0.0\t0.073\t\n",
      "\t184\t \t0.0\t0.074\t\n",
      "\t185\t \t0.0\t0.076\t\n",
      "\t186\t \t0.0\t0.076\t\n",
      "\t187\t \t0.0\t0.075\t\n",
      "\t188\t \t0.0\t0.078\t\n",
      "\t189\t \t0.0\t0.077\t\n",
      "\t190\t \t0.0\t0.075\t\n",
      "\t191\t \t0.0\t0.073\t\n",
      "\t192\t \t0.0\t0.077\t\n",
      "\t193\t \t0.0\t0.077\t\n",
      "\t194\t \t0.0\t0.074\t\n",
      "\t195\t \t0.0\t0.077\t\n",
      "\t196\t \t0.0\t0.076\t\n",
      "\t197\t \t0.0\t0.076\t\n",
      "\t198\t \t0.0\t0.079\t\n",
      "\t199\t \t0.0\t0.075\t\n",
      "hi\n"
     ]
    }
   ],
   "source": [
    "run run.py\n"
   ]
  },
  {
   "cell_type": "code",
   "execution_count": null,
   "metadata": {
    "collapsed": true
   },
   "outputs": [],
   "source": []
  },
  {
   "cell_type": "code",
   "execution_count": null,
   "metadata": {
    "collapsed": true
   },
   "outputs": [],
   "source": []
  },
  {
   "cell_type": "code",
   "execution_count": null,
   "metadata": {
    "collapsed": true
   },
   "outputs": [],
   "source": []
  },
  {
   "cell_type": "code",
   "execution_count": null,
   "metadata": {
    "collapsed": true
   },
   "outputs": [],
   "source": []
  },
  {
   "cell_type": "code",
   "execution_count": 22,
   "metadata": {
    "collapsed": true
   },
   "outputs": [],
   "source": [
    "import pickle\n",
    "import matplotlib.pyplot as plt"
   ]
  },
  {
   "cell_type": "code",
   "execution_count": null,
   "metadata": {
    "collapsed": true
   },
   "outputs": [],
   "source": []
  },
  {
   "cell_type": "code",
   "execution_count": 19,
   "metadata": {
    "collapsed": true
   },
   "outputs": [],
   "source": [
    "with open('./temp/train_error.dump', 'rb') as f:\n",
    "    train_error = pickle.load(f)\n",
    "with open('./temp/valid_error.dump', 'rb') as f:\n",
    "    valid_error = pickle.load(f)    "
   ]
  },
  {
   "cell_type": "code",
   "execution_count": 20,
   "metadata": {},
   "outputs": [
    {
     "data": {
      "text/plain": [
       "array([ 0.134,  0.094,  0.107,  0.084,  0.081,  0.084,  0.076,  0.073,\n",
       "        0.068,  0.069,  0.068,  0.071,  0.073,  0.073,  0.07 ,  0.074,\n",
       "        0.072,  0.072,  0.072,  0.072,  0.073,  0.071,  0.071,  0.071,\n",
       "        0.073,  0.075,  0.074,  0.074,  0.074,  0.074,  0.072,  0.073,\n",
       "        0.075,  0.076,  0.074,  0.074,  0.075,  0.074,  0.074,  0.074,\n",
       "        0.074,  0.075,  0.074,  0.074,  0.074,  0.074,  0.074,  0.075,\n",
       "        0.074,  0.075,  0.075,  0.074,  0.074,  0.074,  0.074,  0.075,\n",
       "        0.074,  0.074,  0.074,  0.075,  0.075,  0.074,  0.074,  0.074,\n",
       "        0.075,  0.075,  0.074,  0.074,  0.074,  0.075,  0.075,  0.074,\n",
       "        0.073,  0.075,  0.075,  0.074,  0.074,  0.073,  0.074,  0.073,\n",
       "        0.073,  0.074,  0.074,  0.073,  0.075,  0.074,  0.074,  0.073,\n",
       "        0.072,  0.074,  0.073,  0.074,  0.073,  0.074,  0.074,  0.073,\n",
       "        0.074,  0.073,  0.074,  0.074,  0.074,  0.074,  0.073,  0.074,\n",
       "        0.074,  0.074,  0.074,  0.074,  0.074,  0.074,  0.074,  0.075,\n",
       "        0.075,  0.075,  0.075,  0.074,  0.074,  0.075,  0.075,  0.075,\n",
       "        0.074,  0.074,  0.075,  0.074,  0.075,  0.075,  0.075,  0.075,\n",
       "        0.075,  0.075,  0.075,  0.075,  0.075,  0.075,  0.075,  0.075,\n",
       "        0.075,  0.075,  0.075,  0.075,  0.075,  0.075,  0.075,  0.075,\n",
       "        0.075,  0.075,  0.075,  0.075,  0.075,  0.075,  0.075,  0.075,\n",
       "        0.075,  0.075,  0.075,  0.075,  0.075,  0.075,  0.075,  0.075,\n",
       "        0.075,  0.075,  0.075,  0.075,  0.075,  0.075,  0.075,  0.075,\n",
       "        0.075,  0.075,  0.075,  0.075,  0.075,  0.075,  0.075,  0.075,\n",
       "        0.075,  0.075,  0.075,  0.075,  0.075,  0.075,  0.075,  0.075,\n",
       "        0.075,  0.075,  0.075,  0.075,  0.075,  0.075,  0.075,  0.075,\n",
       "        0.075,  0.075,  0.075,  0.074,  0.074,  0.074,  0.074,  0.074])"
      ]
     },
     "execution_count": 20,
     "metadata": {},
     "output_type": "execute_result"
    }
   ],
   "source": [
    "valid_error"
   ]
  },
  {
   "cell_type": "code",
   "execution_count": 8,
   "metadata": {},
   "outputs": [],
   "source": [
    "import pickle\n",
    "import matplotlib.pyplot as plt\n",
    "with open('./temp/train_error.dump', 'rb') as f:\n",
    "    train_error = pickle.load(f)\n",
    "with open('./temp/valid_error.dump', 'rb') as f:\n",
    "    valid_error = pickle.load(f)   \n",
    "with open('./temp/network.dump', 'rb') as f:\n",
    "    nn_dump = pickle.load(f) "
   ]
  },
  {
   "cell_type": "code",
   "execution_count": 9,
   "metadata": {},
   "outputs": [
    {
     "data": {
      "text/plain": [
       "<src.network.NeuralNetwork at 0xddd1c50>"
      ]
     },
     "execution_count": 9,
     "metadata": {},
     "output_type": "execute_result"
    }
   ],
   "source": [
    "nn_dump"
   ]
  },
  {
   "cell_type": "code",
   "execution_count": 18,
   "metadata": {},
   "outputs": [
    {
     "data": {
      "text/plain": [
       "array([ 0.216     ,  0.092     ,  0.05933333,  0.04      ,  0.02333333,\n",
       "        0.00966667,  0.00633333,  0.002     ,  0.        ,  0.        ,\n",
       "        0.        ,  0.        ,  0.        ,  0.        ,  0.        ,\n",
       "        0.        ,  0.        ,  0.        ,  0.        ,  0.        ,\n",
       "        0.        ,  0.        ,  0.        ,  0.        ,  0.        ,\n",
       "        0.        ,  0.        ,  0.        ,  0.        ,  0.        ,\n",
       "        0.        ,  0.        ,  0.        ,  0.        ,  0.        ,\n",
       "        0.        ,  0.        ,  0.        ,  0.        ,  0.        ,\n",
       "        0.        ,  0.        ,  0.        ,  0.        ,  0.        ,\n",
       "        0.        ,  0.        ,  0.        ,  0.        ,  0.        ,\n",
       "        0.        ,  0.        ,  0.        ,  0.        ,  0.        ,\n",
       "        0.        ,  0.        ,  0.        ,  0.        ,  0.        ,\n",
       "        0.        ,  0.        ,  0.        ,  0.        ,  0.        ,\n",
       "        0.        ,  0.        ,  0.        ,  0.        ,  0.        ,\n",
       "        0.        ,  0.        ,  0.        ,  0.        ,  0.        ,\n",
       "        0.        ,  0.        ,  0.        ,  0.        ,  0.        ,\n",
       "        0.        ,  0.        ,  0.        ,  0.        ,  0.        ,\n",
       "        0.        ,  0.        ,  0.        ,  0.        ,  0.        ,\n",
       "        0.        ,  0.        ,  0.        ,  0.        ,  0.        ,\n",
       "        0.        ,  0.        ,  0.        ,  0.        ,  0.        ,\n",
       "        0.        ,  0.        ,  0.        ,  0.        ,  0.        ,\n",
       "        0.        ,  0.        ,  0.        ,  0.        ,  0.        ,\n",
       "        0.        ,  0.        ,  0.        ,  0.        ,  0.        ,\n",
       "        0.        ,  0.        ,  0.        ,  0.        ,  0.        ,\n",
       "        0.        ,  0.        ,  0.        ,  0.        ,  0.        ,\n",
       "        0.        ,  0.        ,  0.        ,  0.        ,  0.        ,\n",
       "        0.        ,  0.        ,  0.        ,  0.        ,  0.        ,\n",
       "        0.        ,  0.        ,  0.        ,  0.        ,  0.        ,\n",
       "        0.        ,  0.        ,  0.        ,  0.        ,  0.        ,\n",
       "        0.        ,  0.        ,  0.        ,  0.        ,  0.        ,\n",
       "        0.        ,  0.        ,  0.        ,  0.        ,  0.        ,\n",
       "        0.        ,  0.        ,  0.        ,  0.        ,  0.        ,\n",
       "        0.        ,  0.        ,  0.        ,  0.        ,  0.        ,\n",
       "        0.        ,  0.        ,  0.        ,  0.        ,  0.        ,\n",
       "        0.        ,  0.        ,  0.        ,  0.        ,  0.        ,\n",
       "        0.        ,  0.        ,  0.        ,  0.        ,  0.        ,\n",
       "        0.        ,  0.        ,  0.        ,  0.        ,  0.        ,\n",
       "        0.        ,  0.        ,  0.        ,  0.        ,  0.        ,\n",
       "        0.        ,  0.        ,  0.        ,  0.        ,  0.        ,\n",
       "        0.        ,  0.        ,  0.        ,  0.        ,  0.        ])"
      ]
     },
     "execution_count": 18,
     "metadata": {},
     "output_type": "execute_result"
    }
   ],
   "source": []
  },
  {
   "cell_type": "code",
   "execution_count": 27,
   "metadata": {},
   "outputs": [
    {
     "data": {
      "image/png": "[encoded data removed]",
      "text/plain": [
       "<matplotlib.figure.Figure at 0x836fb38>"
      ]
     },
     "metadata": {},
     "output_type": "display_data"
    }
   ],
   "source": [
    "plt.plot(valid_error)\n",
    "plt.plot(train_error)\n",
    "plt.ylim(0, 1)\n",
    "plt.show()"
   ]
  },
  {
   "cell_type": "code",
   "execution_count": null,
   "metadata": {
    "collapsed": true
   },
   "outputs": [],
   "source": []
  },
  {
   "cell_type": "code",
   "execution_count": null,
   "metadata": {
    "collapsed": true
   },
   "outputs": [],
   "source": []
  },
  {
   "cell_type": "code",
   "execution_count": null,
   "metadata": {
    "collapsed": true
   },
   "outputs": [],
   "source": []
  },
  {
   "cell_type": "code",
   "execution_count": null,
   "metadata": {
    "collapsed": true
   },
   "outputs": [],
   "source": []
  },
  {
   "cell_type": "code",
   "execution_count": 14,
   "metadata": {},
   "outputs": [
    {
     "ename": "TypeError",
     "evalue": "a bytes-like object is required, not 'str'",
     "output_type": "error",
     "traceback": [
      "\u001b[1;31m---------------------------------------------------------------------------\u001b[0m",
      "\u001b[1;31mTypeError\u001b[0m                                 Traceback (most recent call last)",
      "\u001b[1;32m<ipython-input-14-f1ba480c561f>\u001b[0m in \u001b[0;36m<module>\u001b[1;34m()\u001b[0m\n\u001b[1;32m----> 1\u001b[1;33m \u001b[0mtrain_error\u001b[0m \u001b[1;33m=\u001b[0m \u001b[0mpickle\u001b[0m\u001b[1;33m.\u001b[0m\u001b[0mloads\u001b[0m\u001b[1;33m(\u001b[0m\u001b[1;34m'./temp/train_error.dump'\u001b[0m\u001b[1;33m)\u001b[0m\u001b[1;33m\u001b[0m\u001b[0m\n\u001b[0m",
      "\u001b[1;31mTypeError\u001b[0m: a bytes-like object is required, not 'str'"
     ]
    }
   ],
   "source": []
  },
  {
   "cell_type": "code",
   "execution_count": null,
   "metadata": {
    "collapsed": true
   },
   "outputs": [],
   "source": []
  },
  {
   "cell_type": "code",
   "execution_count": null,
   "metadata": {
    "collapsed": true
   },
   "outputs": [],
   "source": []
  }
 ],
 "metadata": {
  "kernelspec": {
   "display_name": "Python 3",
   "language": "python",
   "name": "python3"
  },
  "language_info": {
   "codemirror_mode": {
    "name": "ipython",
    "version": 3
   },
   "file_extension": ".py",
   "mimetype": "text/x-python",
   "name": "python",
   "nbconvert_exporter": "python",
   "pygments_lexer": "ipython3",
   "version": "3.6.1"
  }
 },
 "nbformat": 4,
 "nbformat_minor": 2
}
